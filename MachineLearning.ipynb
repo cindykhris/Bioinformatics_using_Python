{
  "nbformat": 4,
  "nbformat_minor": 0,
  "metadata": {
    "colab": {
      "name": "MachineLearning.ipynb",
      "provenance": [],
      "toc_visible": true,
      "authorship_tag": "ABX9TyPdrxL82e/lj7GE6JCtKYbQ",
      "include_colab_link": true
    },
    "kernelspec": {
      "name": "python3",
      "display_name": "Python 3"
    }
  },
  "cells": [
    {
      "cell_type": "markdown",
      "metadata": {
        "id": "view-in-github",
        "colab_type": "text"
      },
      "source": [
        "<a href=\"https://colab.research.google.com/github/cindykhris/Bioinformatics_using_Python/blob/master/MachineLearning.ipynb\" target=\"_parent\"><img src=\"https://colab.research.google.com/assets/colab-badge.svg\" alt=\"Open In Colab\"/></a>"
      ]
    },
    {
      "cell_type": "markdown",
      "metadata": {
        "id": "0YKDXEk6VfWM",
        "colab_type": "text"
      },
      "source": [
        "# Introduction To Machine Learning\n",
        "## What is Machine Learning \n",
        "While at IBM, Arthurn Samuel developed a program that learned how to play checkers (1959). He called it \n",
        "\n",
        "\n",
        "> \"The field of study that gives computers the ability to learn without being explicitly programmed.\" \n",
        "\n",
        "\n",
        "\n",
        "\n",
        "\n",
        "\n",
        "\n",
        "\n",
        "\n",
        "\n",
        "\n",
        "\n"
      ]
    },
    {
      "cell_type": "markdown",
      "metadata": {
        "id": "IQ7SJofrsG_-",
        "colab_type": "text"
      },
      "source": [
        "\n",
        "##Supervised Machine Leaning\n",
        "machine learning could be either:\n",
        "\n",
        ">Supervised Learning or \n",
        "\n",
        ">Unsupervised Learning\n",
        "\n",
        "***Supervised Learning*** is where the data is labeled and the program learns to predict the output from the input. Eg. a supervised elarning algorithm for credit card fraud detection woule take as input a ser of recorded transactions. For each transaction, the program would predict if it is. fraudulent or not. \n",
        "Supervised learning problems can be furthere grouped into regression and clssification problems. \n",
        "\n",
        "***Regression:***\n",
        "In regression porblems, we are trying to predict a continuous-valued output. Examples are: \n",
        "\n",
        "\n",
        "*   What is the housing price in New York?\n",
        "*   What is the value of cryptocurrencies?\n",
        "\n",
        "***Classification:***\n",
        "In classification problems, we are trying to predict a discrete number of values. Examples are:\n",
        "\n",
        "\n",
        "*   Is this a picture of a human or a picture of an AI?\n",
        "*   Is this email spam? \n"
      ]
    },
    {
      "cell_type": "markdown",
      "metadata": {
        "id": "e6KqQ2UesKfM",
        "colab_type": "text"
      },
      "source": [
        "\n",
        "## Unsupervised Machine Learning \n",
        "***Unsupervised learning*** is a type of machine learning where the program learns the inherent structure of the data based on unlabeled examples. \n",
        "\n",
        "***Clustering*** is a common unsupervised meachine learning approach that finds patterns and structures in unlabeled data by grouping them into clusters. \n",
        "\n",
        "Some examples: \n",
        "\n",
        "\n",
        "*   Social networks clustering topics in their news feed\n",
        "*   Consumers sites clustering users for recommendations\n",
        "*   Search engines to group similar objects in one cluster"
      ]
    },
    {
      "cell_type": "markdown",
      "metadata": {
        "id": "rSGPI44jej8J",
        "colab_type": "text"
      },
      "source": [
        "## The Process\n",
        "The machine Learning process includes:\n",
        "\n",
        "\n",
        "1.   Formulating a Question\n",
        "2.   Finding and Understanding the Data\n",
        "3.   Cleaing the Data and Feature Engineering\n",
        "4.   Choosing a Model\n",
        "5.   Turning and Evaluating \n",
        "6.   Using the Model and Presenting Results\n",
        "\n",
        "\n",
        "\n"
      ]
    },
    {
      "cell_type": "markdown",
      "metadata": {
        "id": "FeGm4W_hmkDZ",
        "colab_type": "text"
      },
      "source": [
        ""
      ]
    },
    {
      "cell_type": "markdown",
      "metadata": {
        "id": "wnePmwkxa92J",
        "colab_type": "text"
      },
      "source": [
        "### 1. Formulating a Question\n",
        "What is it that we want to find out? How will we reach the success criteria that we set? Let's say we are performing ML for a hight=traffic fast-casual restaturant chain, ad out oal is to improve the customer expereince. we can serve this goal in many ways/ When we're thinking about creating a model, we have to narrow down to on measurable, specific tast. For example, we might day we want to predict the wait times for customers' food orders within 2 minutes, so that we can give them an accurate time estimate. \n"
      ]
    },
    {
      "cell_type": "markdown",
      "metadata": {
        "id": "5DkyZgN6f2K3",
        "colab_type": "text"
      },
      "source": [
        "### 2. Finding an Understanding the Data\n",
        "\n",
        "\n",
        "*   Calculate mean and median to understanf the distribution\n",
        "*   Calculate percentiles\n",
        "*   Find correlations that indicate relationships\n",
        "\n",
        "You may also want to visualize the data, perhaps using box plots to identify outliers, histograms to show the basic structure of the data, and scatter plots to examine relationships between variables. \n",
        "\n",
        "\n"
      ]
    },
    {
      "cell_type": "code",
      "metadata": {
        "id": "GtQHpd_Tg8cm",
        "colab_type": "code",
        "colab": {}
      },
      "source": [
        "plot_1 = [1,2,3,4,5,6,7,8,9,10]\n",
        "plot_2 = [1*10,10*2,10*3,10*4,10*5,10*6,10*7,10*8,10*9,10*10]"
      ],
      "execution_count": null,
      "outputs": []
    },
    {
      "cell_type": "code",
      "metadata": {
        "id": "jKbyp5UGhYE3",
        "colab_type": "code",
        "colab": {
          "base_uri": "https://localhost:8080/",
          "height": 428
        },
        "outputId": "412f5f90-0759-4cd7-f6c2-8c57671dbec4"
      },
      "source": [
        "\n",
        "import pandas as pd \n",
        "from matplotlib import pyplot as plt \n",
        "  \n",
        "\n",
        "\n",
        "  \n",
        "name = [1,2,3,4,5,6,7,8,9,10]\n",
        "price = 10*[1,2,3,4,5,6,7,8,9,10]\n",
        "  \n",
        "# Figure Size \n",
        "fig = plt.figure(figsize =(10, 7)) \n",
        "  \n",
        "# Horizontal Bar Plot \n",
        "plt.bar(name[0:10], price[0:10]) \n",
        "  \n",
        "# Show Plot \n",
        "plt.show() "
      ],
      "execution_count": null,
      "outputs": [
        {
          "output_type": "display_data",
          "data": {
            "image/png": "[encoded data removed]",
            "text/plain": [
              "<Figure size 720x504 with 1 Axes>"
            ]
          },
          "metadata": {
            "tags": [],
            "needs_background": "light"
          }
        }
      ]
    },
    {
      "cell_type": "code",
      "metadata": {
        "id": "SWYBXDQZhz-2",
        "colab_type": "code",
        "colab": {}
      },
      "source": [
        ""
      ],
      "execution_count": null,
      "outputs": []
    },
    {
      "cell_type": "markdown",
      "metadata": {
        "id": "o_PvJQ1GiWmT",
        "colab_type": "text"
      },
      "source": [
        "### 3. Cleaning the Data and Feature Engineering\n",
        "Real data is messy! Data may have errors. Some columns may be empty. The features we're interested in might requiere string manipulation to extract. Cleaning the data refers to the process by which we address missing values and outliers, among other things that may affect our insights. \n",
        "***Feature Engineering*** refers tot he process by hwich we choose the imprtant features (or columns) to look at, and make the appropriate transformations to prepare our data for our model. \n",
        "We might try:\n",
        "\n",
        "\n",
        "*   Normalizing or standarizing the data\n",
        "* Augmentign the data by ading new columns\n",
        "*   removing unnecessary columns\n",
        "\n",
        "After we test our model on the data we have, we might go back and reengineer features to see if we get a better result. \n",
        "\n"
      ]
    },
    {
      "cell_type": "code",
      "metadata": {
        "id": "CxzThxBXjgRh",
        "colab_type": "code",
        "colab": {}
      },
      "source": [
        ""
      ],
      "execution_count": null,
      "outputs": []
    },
    {
      "cell_type": "markdown",
      "metadata": {
        "id": "uGNH6pSDjhXD",
        "colab_type": "text"
      },
      "source": [
        "### 4. Choosing a Model\n",
        "Once we understan our dataset and know the problem we are trying to solde, we can begin to choose a model that will help us tackle our problem. \n",
        "\n",
        "* example: \n",
        "  \n",
        "  * If we are attempting to find a continuous output --> use reression algorithm\n",
        "  * If we are attempting to clasify an input --> then we would use a classification algorithm \n",
        "\n",
        "The different classification and regression algorithms work better on differnt types of datasets. We use different models on catgorical and numerical data, and differnt models on datasets with many features and datasets with few features. Our models also have different levels of interpretability - how easy is it for us to see what these results mean and what led to them? When we teach the models, we will discuss the tradeoffs of using each one. "
      ]
    },
    {
      "cell_type": "code",
      "metadata": {
        "id": "nXEMW2f_ljtQ",
        "colab_type": "code",
        "colab": {}
      },
      "source": [
        ""
      ],
      "execution_count": null,
      "outputs": []
    },
    {
      "cell_type": "markdown",
      "metadata": {
        "id": "BiG0arOtlkgZ",
        "colab_type": "text"
      },
      "source": [
        "### 5. Turnign and Evaluating\n",
        "We often want to set a metric of success, so that we know the model we've chosen is good enough. Are we looking for accuracy? Precision? Some combination of the two? We discuss this in our lesson on Precision and Accuracy. \n",
        "Each model has a variety of parameters tha change how it makes decisions. We can adjust these and compare the chosen evaluation metrics of the differnt variants to find the most accurate model. \n"
      ]
    },
    {
      "cell_type": "markdown",
      "metadata": {
        "id": "tp6eIncOmmen",
        "colab_type": "text"
      },
      "source": [
        "### 6. Using the Model and Presenting Results\n",
        "When you achieve the level of accuracy you want on your training set, you can use the model on the data you actually care about analyzing. \n"
      ]
    },
    {
      "cell_type": "code",
      "metadata": {
        "id": "lbb63pmEmerw",
        "colab_type": "code",
        "colab": {}
      },
      "source": [
        ""
      ],
      "execution_count": null,
      "outputs": []
    },
    {
      "cell_type": "markdown",
      "metadata": {
        "id": "qj7ypAeKm9vJ",
        "colab_type": "text"
      },
      "source": [
        "### The Process\n",
        "The process we have outlines is a fairly standard process for performing machine learning. As you get experience going through this process on your own, wih your own problems, you will start to form your own process. The steps may not be linear1 As you clean your data, you may uncover a better question to ask. As you tune your model, you may realize you need more data, and go back to the collection step. \n",
        "The important part it to stay cureious, and to keep iterating until you find a model thay works the best! "
      ]
    },
    {
      "cell_type": "code",
      "metadata": {
        "id": "e_Pce-ggnoCI",
        "colab_type": "code",
        "colab": {}
      },
      "source": [
        ""
      ],
      "execution_count": null,
      "outputs": []
    },
    {
      "cell_type": "markdown",
      "metadata": {
        "id": "K4yyPqnBn5sI",
        "colab_type": "text"
      },
      "source": [
        "## What is Scikit-learn\n",
        "Scikit-learn is a library in Python that provides many unsupervised and supervised learning algorithms. It's built upon some of the technology you might already be familiar with, like NumPy, pandas, and Matplotlib. \n",
        "As iyou build robust ML programs, it's helpful to have all the sklearn commans all in one place in case you forget. "
      ]
    },
    {
      "cell_type": "markdown",
      "metadata": {
        "id": "7oxZn4H0r0Rf",
        "colab_type": "text"
      },
      "source": [
        "https://www.codecademy.com/paths/machine-learning/tracks/introduction-to-machine-learning-skill-path/modules/introduction-to-machine-learning-skill-path/articles/scikit-learn-cheatsheet"
      ]
    },
    {
      "cell_type": "code",
      "metadata": {
        "id": "_VnPVuYFr1OL",
        "colab_type": "code",
        "colab": {}
      },
      "source": [
        ""
      ],
      "execution_count": null,
      "outputs": []
    },
    {
      "cell_type": "markdown",
      "metadata": {
        "id": "lDi9XWdLsSPM",
        "colab_type": "text"
      },
      "source": [
        "#Supervised Learning: Regression"
      ]
    },
    {
      "cell_type": "markdown",
      "metadata": {
        "id": "AofVyIKas80x",
        "colab_type": "text"
      },
      "source": [
        ""
      ]
    },
    {
      "cell_type": "markdown",
      "metadata": {
        "id": "SpzHxuW_tNDZ",
        "colab_type": "text"
      },
      "source": [
        "#Regression Cumulative Project"
      ]
    },
    {
      "cell_type": "code",
      "metadata": {
        "id": "oG_WGwTktQkZ",
        "colab_type": "code",
        "colab": {}
      },
      "source": [
        ""
      ],
      "execution_count": null,
      "outputs": []
    },
    {
      "cell_type": "markdown",
      "metadata": {
        "id": "prx68ojxtSxf",
        "colab_type": "text"
      },
      "source": [
        "#Supervised Learning: Introduction to Classification"
      ]
    },
    {
      "cell_type": "code",
      "metadata": {
        "id": "WTd5uRCKtaFD",
        "colab_type": "code",
        "colab": {}
      },
      "source": [
        ""
      ],
      "execution_count": null,
      "outputs": []
    },
    {
      "cell_type": "markdown",
      "metadata": {
        "id": "ehiru9jOta1i",
        "colab_type": "text"
      },
      "source": [
        "#Supervised Learning: Advanced Classification"
      ]
    },
    {
      "cell_type": "code",
      "metadata": {
        "id": "DAIfuYPuti9s",
        "colab_type": "code",
        "colab": {}
      },
      "source": [
        ""
      ],
      "execution_count": null,
      "outputs": []
    },
    {
      "cell_type": "markdown",
      "metadata": {
        "id": "ohnZtK0qtkBW",
        "colab_type": "text"
      },
      "source": [
        "#Supervised Machine Learning Cumulative Project"
      ]
    },
    {
      "cell_type": "code",
      "metadata": {
        "id": "OaAy5oDPtqJk",
        "colab_type": "code",
        "colab": {}
      },
      "source": [
        ""
      ],
      "execution_count": null,
      "outputs": []
    },
    {
      "cell_type": "markdown",
      "metadata": {
        "id": "XjomuB39tqxk",
        "colab_type": "text"
      },
      "source": [
        "#Unsupervised Learning"
      ]
    },
    {
      "cell_type": "code",
      "metadata": {
        "id": "YNlfpzs4ttPk",
        "colab_type": "code",
        "colab": {}
      },
      "source": [
        ""
      ],
      "execution_count": null,
      "outputs": []
    },
    {
      "cell_type": "markdown",
      "metadata": {
        "id": "J3O6bbANtuE-",
        "colab_type": "text"
      },
      "source": [
        "#Unsupervised machine Learning Cumulative Project"
      ]
    },
    {
      "cell_type": "code",
      "metadata": {
        "id": "KgM1Fo4zt0vk",
        "colab_type": "code",
        "colab": {}
      },
      "source": [
        ""
      ],
      "execution_count": null,
      "outputs": []
    },
    {
      "cell_type": "markdown",
      "metadata": {
        "id": "xVkukGKat1c4",
        "colab_type": "text"
      },
      "source": [
        "#Perceptrons and Neural Nets"
      ]
    },
    {
      "cell_type": "code",
      "metadata": {
        "id": "IED6V3J5t5cm",
        "colab_type": "code",
        "colab": {}
      },
      "source": [
        ""
      ],
      "execution_count": null,
      "outputs": []
    },
    {
      "cell_type": "markdown",
      "metadata": {
        "id": "UTuUI8evt6QM",
        "colab_type": "text"
      },
      "source": [
        "#Machine Learning Capstone Project"
      ]
    },
    {
      "cell_type": "code",
      "metadata": {
        "id": "DAAJxhurt9zH",
        "colab_type": "code",
        "colab": {}
      },
      "source": [
        ""
      ],
      "execution_count": null,
      "outputs": []
    }
  ]
}